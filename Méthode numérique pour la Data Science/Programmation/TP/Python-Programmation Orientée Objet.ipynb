{
 "cells": [
  {
   "cell_type": "markdown",
   "metadata": {},
   "source": [
    "# Module R208\n",
    "\n",
    "## TD/TP 1- Programmation orienté objet"
   ]
  },
  {
   "cell_type": "markdown",
   "metadata": {},
   "source": [
    "---\n",
    "Nom :\n",
    "\n",
    "Prénom :\n",
    "\n",
    "Groupe de TP :\n",
    "\n",
    "---"
   ]
  },
  {
   "cell_type": "markdown",
   "metadata": {},
   "source": [
    "## Exercice 1"
   ]
  },
  {
   "cell_type": "markdown",
   "metadata": {},
   "source": [
    "Créer une classe ayant pour nom **Point2D** permettant de manipuler des objets de type points dans le plan.   \n",
    "La classe devra comporter :\n",
    "\n",
    "-une documentation\n",
    "-deux variables d’instance **x** et **y** correspondant aux coordonnées cartésiennes d’un point.   \n",
    "-un constructeur (méthode spéciale **\\_\\_init\\_\\_()**) recevant en paramètres les valeurs des coordonnées du point en cours d’instanciation.  \n",
    "-une méthode d’instance **deplace()** permettant de translater l’objet point appelant (instance courante) d’un vecteur dont les composantes sont transmises en paramètres.  \n",
    "-une méthode d’instance **distance()** retournant la distance euclidienne entre l’objet point appelant (instance courante)  et un point transmis en paramètre.  \n",
    "-une méthode d’instance **affiche()** affichant les coordonnées de l’objet point appelant (instance courante) sous forme d’une chaine de caractères.  \n",
    "-des méthodes d’instance de type accesseurs (getters) et mutateurs (setters) pour lire et modifier séparément chaque coordonnée : **get_x()**, **set_x()**, **get_y()**, **set_y()**  "
   ]
  },
  {
   "cell_type": "code",
   "execution_count": 24,
   "metadata": {},
   "outputs": [],
   "source": []
  },
  {
   "cell_type": "markdown",
   "metadata": {},
   "source": [
    "Créer l'instance p1 comme suit: **p1=Point2D(2, 3)** "
   ]
  },
  {
   "cell_type": "code",
   "execution_count": 26,
   "metadata": {},
   "outputs": [],
   "source": []
  },
  {
   "cell_type": "markdown",
   "metadata": {},
   "source": [
    "Exécuter l’instruction **print(p1)**"
   ]
  },
  {
   "cell_type": "code",
   "execution_count": null,
   "metadata": {},
   "outputs": [],
   "source": []
  },
  {
   "cell_type": "markdown",
   "metadata": {},
   "source": [
    "Expliquer l'affichage"
   ]
  },
  {
   "cell_type": "raw",
   "metadata": {},
   "source": []
  },
  {
   "cell_type": "markdown",
   "metadata": {},
   "source": [
    "Exécuter l'instruction **print(p1.\\_\\_doc\\_\\_)**  \n"
   ]
  },
  {
   "cell_type": "code",
   "execution_count": null,
   "metadata": {},
   "outputs": [],
   "source": []
  },
  {
   "cell_type": "markdown",
   "metadata": {},
   "source": [
    "Expliquer l'affichage"
   ]
  },
  {
   "cell_type": "raw",
   "metadata": {},
   "source": []
  },
  {
   "cell_type": "markdown",
   "metadata": {},
   "source": [
    "Exécuter l'instruction **print(Point2D.\\_\\_dict\\_\\_)**    "
   ]
  },
  {
   "cell_type": "code",
   "execution_count": null,
   "metadata": {},
   "outputs": [],
   "source": []
  },
  {
   "cell_type": "markdown",
   "metadata": {},
   "source": [
    "Expliquer l'affichage"
   ]
  },
  {
   "cell_type": "raw",
   "metadata": {},
   "source": []
  },
  {
   "cell_type": "markdown",
   "metadata": {},
   "source": [
    "Exécuter les instructions suivantes:    \n",
    "**print(hasattr(p1, \"x\"))**   \n",
    "**print(hasattr(p1, \"z\"))** "
   ]
  },
  {
   "cell_type": "code",
   "execution_count": null,
   "metadata": {},
   "outputs": [],
   "source": []
  },
  {
   "cell_type": "markdown",
   "metadata": {},
   "source": [
    "Expliquer l'affichage"
   ]
  },
  {
   "cell_type": "raw",
   "metadata": {},
   "source": []
  },
  {
   "cell_type": "markdown",
   "metadata": {},
   "source": [
    "Exécuter l'instruction **print(p1.\\_\\_dict\\_\\_.keys())**  \n"
   ]
  },
  {
   "cell_type": "code",
   "execution_count": null,
   "metadata": {},
   "outputs": [],
   "source": []
  },
  {
   "cell_type": "markdown",
   "metadata": {},
   "source": [
    "Expliquer l'affichage"
   ]
  },
  {
   "cell_type": "raw",
   "metadata": {},
   "source": []
  },
  {
   "cell_type": "markdown",
   "metadata": {},
   "source": [
    "Exécuter les instructions:   \n",
    "**print(p1.\\_\\_dict\\_\\_[\"x\"])**    \n",
    "**print(p1.\\_\\_dict\\_\\_[\"y\"])** "
   ]
  },
  {
   "cell_type": "code",
   "execution_count": null,
   "metadata": {},
   "outputs": [],
   "source": []
  },
  {
   "cell_type": "markdown",
   "metadata": {},
   "source": [
    "Expliquer l'affichage"
   ]
  },
  {
   "cell_type": "raw",
   "metadata": {},
   "source": []
  },
  {
   "cell_type": "markdown",
   "metadata": {},
   "source": [
    "Exécuter les instructions:   \n",
    "**print(getattr(p1, \"x\"))**    \n",
    "**print(getattr(p1, \"y\"))**  \n"
   ]
  },
  {
   "cell_type": "code",
   "execution_count": null,
   "metadata": {},
   "outputs": [],
   "source": []
  },
  {
   "cell_type": "markdown",
   "metadata": {},
   "source": [
    "Expliquer l'affichage"
   ]
  },
  {
   "cell_type": "raw",
   "metadata": {},
   "source": []
  },
  {
   "cell_type": "markdown",
   "metadata": {},
   "source": [
    "Exécuter les instructions:   \n",
    "**setattr(p1, \"y\", 4)**    \n",
    "**print(p1.\\_\\_dict\\_\\_[\"y\"])**  \n"
   ]
  },
  {
   "cell_type": "code",
   "execution_count": null,
   "metadata": {},
   "outputs": [],
   "source": []
  },
  {
   "cell_type": "markdown",
   "metadata": {},
   "source": [
    "Expliquer l'affichage"
   ]
  },
  {
   "cell_type": "raw",
   "metadata": {},
   "source": []
  },
  {
   "cell_type": "markdown",
   "metadata": {},
   "source": [
    "Exécuter les instructions suivantes:  \n",
    "**p1.\\__dict\\__[\"x\"] = 8**  \n",
    "**print(p1.\\__dict\\__[\"x\"])**  \n",
    "**print(dir(p1))**"
   ]
  },
  {
   "cell_type": "code",
   "execution_count": null,
   "metadata": {},
   "outputs": [],
   "source": []
  },
  {
   "cell_type": "markdown",
   "metadata": {},
   "source": [
    "Expliquer l'affichage"
   ]
  },
  {
   "cell_type": "raw",
   "metadata": {},
   "source": []
  },
  {
   "cell_type": "markdown",
   "metadata": {},
   "source": [
    "Réécrire la classe **Point2D** en y ajoutant:  \n",
    "-la méthode prédéfinie **\\_\\_str\\_\\_**  \n",
    "-la méthode de classe **affiche_nb_points()** qui affiche le nombre d’objets de type **Point2D** créés  \n",
    "-deux propriétés **rho** et **theta** accessibles en lecture et représentant les coordonnées polaires d’un point  \n",
    "-la méthode prédéfinie **\\_\\_eq\\_\\_** pour réaliser la surcharge de l’opérateur de test d’égalité **==** et comparer deux à deux les coordonnées de deux points"
   ]
  },
  {
   "cell_type": "code",
   "execution_count": 36,
   "metadata": {},
   "outputs": [],
   "source": []
  },
  {
   "cell_type": "markdown",
   "metadata": {},
   "source": [
    "Créer deux instances **p1** et **p2** de la classe **Point2D** ayant comme coordonnées respectivement **(2,3)** et **(4,0)**"
   ]
  },
  {
   "cell_type": "code",
   "execution_count": 37,
   "metadata": {},
   "outputs": [],
   "source": []
  },
  {
   "cell_type": "markdown",
   "metadata": {},
   "source": [
    "Exécuter l’instruction **print(p1)** "
   ]
  },
  {
   "cell_type": "code",
   "execution_count": null,
   "metadata": {},
   "outputs": [],
   "source": []
  },
  {
   "cell_type": "markdown",
   "metadata": {},
   "source": [
    "Utiliser deux instructions pour afficher de deux façons différentes les coordonnées de **p1**"
   ]
  },
  {
   "cell_type": "code",
   "execution_count": null,
   "metadata": {},
   "outputs": [],
   "source": []
  },
  {
   "cell_type": "markdown",
   "metadata": {},
   "source": [
    "Ecrire les instructions permettant de translater **p1** d'un vecteur de composantes **(4,2)** puis d'afficher les nouvelles coordonnées de **p1**"
   ]
  },
  {
   "cell_type": "code",
   "execution_count": null,
   "metadata": {},
   "outputs": [],
   "source": []
  },
  {
   "cell_type": "markdown",
   "metadata": {},
   "source": [
    "Ecrire l'instruction permettant d'afficher l'abscisse de **p1**"
   ]
  },
  {
   "cell_type": "code",
   "execution_count": null,
   "metadata": {},
   "outputs": [],
   "source": []
  },
  {
   "cell_type": "markdown",
   "metadata": {},
   "source": [
    "Ecrire l'instruction permettant d'afficher l'ordonnée de **p1**"
   ]
  },
  {
   "cell_type": "code",
   "execution_count": null,
   "metadata": {},
   "outputs": [],
   "source": []
  },
  {
   "cell_type": "markdown",
   "metadata": {},
   "source": [
    "Ecrire les instructions permettant de fixer comme nouvelles coordonnées de **p1 (0,3)** ; afficher ensuite les coordonnées de **p1** "
   ]
  },
  {
   "cell_type": "code",
   "execution_count": null,
   "metadata": {},
   "outputs": [],
   "source": []
  },
  {
   "cell_type": "markdown",
   "metadata": {},
   "source": [
    "Ecrire les instuctions permettant d'afficher la distance euclidienne entre **p1** et **p2**, et les coordonnées polaires de **p1**    \n"
   ]
  },
  {
   "cell_type": "code",
   "execution_count": null,
   "metadata": {},
   "outputs": [],
   "source": []
  },
  {
   "cell_type": "markdown",
   "metadata": {},
   "source": [
    "Ecrire l'instruction permettant de comparer les coordonnées des points  **p1** et **p2** "
   ]
  },
  {
   "cell_type": "code",
   "execution_count": null,
   "metadata": {},
   "outputs": [],
   "source": []
  },
  {
   "cell_type": "markdown",
   "metadata": {},
   "source": [
    "Ecrire l'instuction permettant d'afficher le nombre de points crées."
   ]
  },
  {
   "cell_type": "code",
   "execution_count": null,
   "metadata": {},
   "outputs": [],
   "source": []
  },
  {
   "cell_type": "markdown",
   "metadata": {},
   "source": [
    "## Exercice 2"
   ]
  },
  {
   "cell_type": "markdown",
   "metadata": {},
   "source": [
    "Créer une classe **Point3D** dérivée de **Point2D** comportant:  \n",
    "-une documentation  \n",
    "-une variable d’instance **z**     \n",
    "-un constructeur (méthode spéciale **\\_\\_init\\_\\_()**) recevant en paramètres les valeurs des coordonnées du point en cours d’instanciation.  \n",
    "-une méthode d’instance **deplace()** permettant de translater l’objet Point3D appelant (instance courante) d’un vecteur dont les composantes sont transmises en paramètres.  \n",
    "-une méthode d’instance **distance()** retournant la distance euclidienne entre l’objet Point3D appelant (instance courante)  et l’objet Point3D transmis en paramètre.   \n",
    "-une méthode d’instance **\\_\\_str\\_\\_()** retournant les coordonnées de l’objet Point3D appelant (instance courante) sous forme d’une chaine de caractères.   \n",
    "-la méthode spéciale **\\_\\_eq\\_\\_()** pour comparer deux à deux les coordonnées de deux objets Points3D.    \n",
    "-des méthodes d’instance de type accesseurs (getters) et mutateurs (setters) pour lire et modifier séparément chaque coordonnée : **get_z()**, **set_z()**  \n"
   ]
  },
  {
   "cell_type": "code",
   "execution_count": 49,
   "metadata": {},
   "outputs": [],
   "source": []
  },
  {
   "cell_type": "markdown",
   "metadata": {},
   "source": [
    "Comme dans l'exercice 1, créer deux objets **p3** et **p4** de la classe **Point3D** ayant pour coordonnées respectivement **(1, 2, 3)** et **(1, 1, 1)**. Tester les méthodes de la classe **Point3D** et celles héritées de la classe **Point2D**.  "
   ]
  },
  {
   "cell_type": "code",
   "execution_count": null,
   "metadata": {},
   "outputs": [],
   "source": []
  },
  {
   "cell_type": "markdown",
   "metadata": {},
   "source": [
    "## Exercice 3"
   ]
  },
  {
   "cell_type": "markdown",
   "metadata": {},
   "source": [
    "On veut créer une classe **Rationnel** dont chaque instance représente un rationnel au sens mathématique du terme (c'est-à-dire une fraction p/q  Q. Chaque objet possède ainsi deux attributs entiers p et q. La classe devra être dotée des méthodes d’instance suivantes :  \n",
    "•\t**\\_\\_init\\_\\_(self, …)** : constructeur de la classe permettant de définir les variables d’instance p et q dont les valeurs sont transmises en paramètres de la méthode  \n",
    "•\t**\\_\\_str\\_\\_(self)** : retourne une chaîne de caractères représentant un nombre rationnel sous la forme d’un ratio ; exemple : \"3 / 2\" ;  \n",
    "•\t**get_num(self)** : Renvoie la valeur du numérateur du rationnel appelant.  \n",
    "•\t**get_denum(self)** : Renvoie la valeur du dénominateur du rationnel appelant.  \n",
    "•\t**set_num(self, p)** : Modifie la valeur du numérateur du rationnel appelant avec la paramètre transmis.  \n",
    "•\t**set_denum(self, q)** : Modifie la valeur du dénominateur du rationnel appelant avec la paramètre transmis.  \n",
    "•\t**toFloat(self)** : Renvoie la valeur (en format float) la plus proche du rationnel représenté par l'objet appelant.  \n",
    "•\t**simplifier (self)** :  Simplifie un nombre rationnel ; pour coder cette méthode : vous devez vous servir de la fonction **pgcd ()** qui renvoie le pgcd entre deux entiers a et b :  \n",
    "def pgcd (a, b):  \n",
    "    if (b == 0):  \n",
    "        return a  \n",
    "    return pgcd(b, a % b)  \n",
    "\n",
    "La fonction **pgcd** sera définie comme méthode statique dans la classe **Rationnel**. \n",
    "\n",
    "On prévoit également dans la classe de créer les méthodes permettant de surcharger les opérateurs  **+,  *,  -,  /, ==, !=,  >, >=, <, <=** via les méthodes d’instance spéciales suivantes :  \n",
    "\n",
    "•\t**\\_\\_add\\_\\_ (self, r)** : Renvoie un nouvel objet Rationnel somme du rationnel appelant et du rationnel r.  \n",
    "•\t**\\_\\_mul\\_\\_ (self, r)** : Renvoie un nouvel objet Rationnel produit du rationnel appelant et du rationnel r.  \n",
    "•\t**\\_\\_sub\\_\\_ (self, r)** : Renvoie un nouvel objet Rationnel différence du rationnel appelant et du rationnel r.  \n",
    "•\t**\\_\\_truediv\\_\\_ (self, r)** : Renvoie un nouvel objet Rationnel quotient du rationnel appelant et du rationnel r.  \n",
    "•\t**\\_\\_eq\\_\\_(self, r)** : Renvoie True si le rationnel appelant est égal au rationnel r transmis en paramètre, et False autrement.   \n",
    "•\t**\\_\\_ne\\_\\_(self, r)** : Renvoie True si le rationnel appelant est différent du rationnel r transmis en paramètre, et False autrement.  \n",
    "•\t**\\_\\_gt\\_\\_(self, r)** : Renvoie True si le rationnel appelant est strictement plus grand que le rationnel r transmis en paramètre, et False autrement.  \n",
    "•\t**\\_\\_ge\\_\\_(self, r)** : Renvoie True si le rationnel appelant est plus supérieur ou égal au rationnel r transmis en paramètre, et False autrement.  \n",
    "•\t**\\_\\_lt\\_\\_(self, r)** : Renvoie True si le rationnel appelant est strictement inférieur au rationnel r transmis en paramètre, et False autrement.  \n",
    "•\t**\\_\\_le\\_\\_(self, r)** : Renvoie True si le rationnel appelant est inférieur ou égal au rationnel r transmis en paramètre, et False autrement.  \n"
   ]
  },
  {
   "cell_type": "code",
   "execution_count": null,
   "metadata": {},
   "outputs": [],
   "source": []
  },
  {
   "cell_type": "markdown",
   "metadata": {},
   "source": [
    "Créer deux objets **Rationnel**:  \n",
    "**r1=Rationnel(3,2)**   \n",
    "**r2=Rationnel(2,3)**\n"
   ]
  },
  {
   "cell_type": "code",
   "execution_count": 52,
   "metadata": {},
   "outputs": [],
   "source": []
  },
  {
   "cell_type": "markdown",
   "metadata": {},
   "source": [
    "Tester chacune des méthodes de la classe **Rationnel**:"
   ]
  },
  {
   "cell_type": "code",
   "execution_count": null,
   "metadata": {},
   "outputs": [],
   "source": []
  },
  {
   "cell_type": "markdown",
   "metadata": {},
   "source": [
    "On souhaite maintenant modifier une partie de la classe **Rationnel** pour empêcher la création et la manipulation d’objets rationnels ayant un numérateur ou un dénominateur de type non entier, ou ayant pour dénominateur 0. Dans quelle méthode faut-il faire ce traitement ? Quels types d’exceptions faut-il lever dans ce cas ? "
   ]
  },
  {
   "cell_type": "raw",
   "metadata": {},
   "source": []
  },
  {
   "cell_type": "markdown",
   "metadata": {},
   "source": [
    "Réécrire la classe **Rationnel** pour traiter les exceptions discutées ci-dessous. "
   ]
  },
  {
   "cell_type": "code",
   "execution_count": 62,
   "metadata": {},
   "outputs": [],
   "source": []
  },
  {
   "cell_type": "markdown",
   "metadata": {},
   "source": [
    "Tester la gestion des exceptions en instanciant l'objet **r3=Rationnel (2, 0)**  "
   ]
  },
  {
   "cell_type": "code",
   "execution_count": null,
   "metadata": {},
   "outputs": [],
   "source": []
  },
  {
   "cell_type": "markdown",
   "metadata": {},
   "source": [
    "Tester la gestion des exceptions en instanciant l'objet **r4=Rationnel ('3',8)** "
   ]
  },
  {
   "cell_type": "code",
   "execution_count": null,
   "metadata": {},
   "outputs": [],
   "source": []
  },
  {
   "cell_type": "markdown",
   "metadata": {},
   "source": [
    "On souhaite maintenant créer un nouveau type d’exception pour vérifier que chaque objet transmis comme paramètre à l’une des méthodes de surcharge les opérateurs est bien une instance de la classe **Rationnel**. Pour ce faire, créer la classe **NonRationalException** par héritage de la classe **Exception**. "
   ]
  },
  {
   "cell_type": "code",
   "execution_count": null,
   "metadata": {},
   "outputs": [],
   "source": []
  },
  {
   "cell_type": "markdown",
   "metadata": {},
   "source": [
    "Réécrire la classe **Rationnel** en implémentant la levée et la capture des exceptions uniquement sur la méthode  \n",
    "**\\_\\_eq\\_\\_(self, r)**;  le même mécanisme pouvant être déployé pour toutes les autres méthodes. On introduira deux propriétés: **numerator** et **denominator**"
   ]
  },
  {
   "cell_type": "code",
   "execution_count": null,
   "metadata": {},
   "outputs": [],
   "source": []
  },
  {
   "cell_type": "markdown",
   "metadata": {},
   "source": [
    "Tester le mécanisme de gestion des exceptions lors de l'exécution du bloc d'instruction suivant (bloc try):    \n",
    "**r3 = Rationnel(2, 1)**  \n",
    "**r4 = Rationnel(3, 8)**  \n",
    "**a=0**  \n",
    "**print(r4==a)**  "
   ]
  },
  {
   "cell_type": "code",
   "execution_count": null,
   "metadata": {},
   "outputs": [],
   "source": []
  },
  {
   "cell_type": "markdown",
   "metadata": {},
   "source": [
    "Analyser l'affichage"
   ]
  },
  {
   "cell_type": "raw",
   "metadata": {},
   "source": []
  },
  {
   "cell_type": "markdown",
   "metadata": {},
   "source": [
    "Tester le mécanisme de gestion des exceptions lors de l'exécution du bloc d'instruction suivant (bloc try):    \n",
    "**r3 = Rationnel(2, 1)**   \n",
    "**r4 = Rationnel(3, 8)**  \n",
    " "
   ]
  },
  {
   "cell_type": "code",
   "execution_count": null,
   "metadata": {},
   "outputs": [],
   "source": []
  },
  {
   "cell_type": "markdown",
   "metadata": {},
   "source": [
    "Analyser l'affichage"
   ]
  },
  {
   "cell_type": "raw",
   "metadata": {},
   "source": []
  },
  {
   "cell_type": "markdown",
   "metadata": {},
   "source": [
    "Tester le mécanisme de gestion des exceptions lors de l'exécution du bloc d'instruction suivant (bloc try):    \n",
    "**r3 = Rationnel(3, 8)**  \n",
    "**r4 = Rationnel(2, 0)**  \n",
    "**a=Rationnel(1, 2)**  \n",
    "**print(r1==a)**  "
   ]
  },
  {
   "cell_type": "code",
   "execution_count": null,
   "metadata": {},
   "outputs": [],
   "source": []
  },
  {
   "cell_type": "markdown",
   "metadata": {},
   "source": [
    "Analyser l'affichage"
   ]
  },
  {
   "cell_type": "raw",
   "metadata": {},
   "source": []
  },
  {
   "cell_type": "markdown",
   "metadata": {},
   "source": [
    "Tester le mécanisme de gestion des exceptions lors de l'exécution du bloc d'instruction suivant (bloc try):  \n",
    "**r3 = Rationnel(2, 1)**  \n",
    "**r4 = Rationnel('3', 8)**  \n",
    "**a=Rationnel(1, 2)**  \n",
    "**print(r1==a)**"
   ]
  },
  {
   "cell_type": "code",
   "execution_count": null,
   "metadata": {},
   "outputs": [],
   "source": []
  },
  {
   "cell_type": "markdown",
   "metadata": {},
   "source": [
    "Analyser l'affichage"
   ]
  },
  {
   "cell_type": "raw",
   "metadata": {},
   "source": []
  }
 ],
 "metadata": {
  "kernelspec": {
   "display_name": "Python 3",
   "language": "python",
   "name": "python3"
  },
  "language_info": {
   "codemirror_mode": {
    "name": "ipython",
    "version": 3
   },
   "file_extension": ".py",
   "mimetype": "text/x-python",
   "name": "python",
   "nbconvert_exporter": "python",
   "pygments_lexer": "ipython3",
   "version": "3.8.3"
  }
 },
 "nbformat": 4,
 "nbformat_minor": 4
}
