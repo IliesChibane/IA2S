{
 "cells": [
  {
   "cell_type": "markdown",
   "metadata": {
    "id": "qg-AZJuqObuo"
   },
   "source": [
    "# Manipulation de fichiers\n",
    "\n",
    "On utilisera pour ce TP **google colab**  \n",
    "Avant de démarrer le TP, créer au préalable dans le répertoire **Colab Notebooks** de votre drive un répertoire ayant pour nom **R208** en y plaçant le présent fichier notebook et le répertoire de fichiers de données **data** qui vous a été fourni\n"
   ]
  },
  {
   "cell_type": "markdown",
   "metadata": {
    "id": "Xf4n3JBMObus"
   },
   "source": [
    "---\n",
    "Nom :\n",
    "\n",
    "Prénom :\n",
    "\n",
    "---"
   ]
  },
  {
   "cell_type": "markdown",
   "metadata": {
    "id": "Ka2QYlZWObut"
   },
   "source": [
    "## Exercice 1: Système de fichiers"
   ]
  },
  {
   "cell_type": "markdown",
   "metadata": {
    "id": "r7IsLf64Obut"
   },
   "source": [
    "Réalisez le montage du drive sur Colab "
   ]
  },
  {
   "cell_type": "code",
   "execution_count": null,
   "metadata": {
    "id": "AwA5THF9Obuu"
   },
   "outputs": [],
   "source": []
  },
  {
   "cell_type": "markdown",
   "metadata": {
    "id": "lCZLE5W8Obuv"
   },
   "source": [
    "Affichez le nom du répertoire courant"
   ]
  },
  {
   "cell_type": "code",
   "execution_count": null,
   "metadata": {
    "id": "4Ce_vXdgObuv"
   },
   "outputs": [],
   "source": []
  },
  {
   "cell_type": "markdown",
   "metadata": {
    "id": "IJx_uJ1yObuw"
   },
   "source": [
    "Placez vous dans le répertoire **R208** puis vérifiez que vous êtes bien dans ce répertoire"
   ]
  },
  {
   "cell_type": "code",
   "execution_count": null,
   "metadata": {
    "id": "B_cqfAQKObuw"
   },
   "outputs": [],
   "source": []
  },
  {
   "cell_type": "markdown",
   "metadata": {
    "id": "V0GtRhJmObux"
   },
   "source": [
    "Affichez le nom du système d'exploitation"
   ]
  },
  {
   "cell_type": "code",
   "execution_count": null,
   "metadata": {
    "id": "06A3rQBCObuy"
   },
   "outputs": [],
   "source": []
  },
  {
   "cell_type": "markdown",
   "metadata": {
    "id": "sRz0t8UqObuy"
   },
   "source": [
    "Affichez le caractère séparateur entre répertoires dans les chemins d'accès aux fichiers et répertoires"
   ]
  },
  {
   "cell_type": "code",
   "execution_count": null,
   "metadata": {
    "id": "LSOnT5IqObuz"
   },
   "outputs": [],
   "source": []
  },
  {
   "cell_type": "markdown",
   "metadata": {
    "id": "D3y1wrhPObuz"
   },
   "source": [
    "Affichez les valeurs des variables d'environnement **HOME**, **LANG**, **PWD** et **PATH**"
   ]
  },
  {
   "cell_type": "code",
   "execution_count": null,
   "metadata": {
    "id": "ccAgOljiObuz"
   },
   "outputs": [],
   "source": []
  },
  {
   "cell_type": "markdown",
   "metadata": {
    "id": "PxqJPN8fObu0"
   },
   "source": [
    "Créez dans le répertoire courant un répertoire ayant pour nom **FICHIERS** "
   ]
  },
  {
   "cell_type": "code",
   "execution_count": null,
   "metadata": {
    "id": "YrJJ9qxYObu0"
   },
   "outputs": [],
   "source": []
  },
  {
   "cell_type": "markdown",
   "metadata": {
    "id": "k8K_aJRHObu0"
   },
   "source": [
    "Vérifier que le répertoire **FICHIERS** a bien été créé; on listera le contenu du répertoire courant de deux façons: en utilisant un chemin absolu puis un chemin relatif "
   ]
  },
  {
   "cell_type": "code",
   "execution_count": null,
   "metadata": {
    "id": "vVEp2MqcObu0"
   },
   "outputs": [],
   "source": []
  },
  {
   "cell_type": "markdown",
   "metadata": {
    "id": "1PFVVN6PObu1"
   },
   "source": [
    "Créez maintenant le répertoire **PARTIE1** dans le répertoire **FICHIERS** "
   ]
  },
  {
   "cell_type": "code",
   "execution_count": null,
   "metadata": {
    "id": "KkaAScAPObu1"
   },
   "outputs": [],
   "source": []
  },
  {
   "cell_type": "markdown",
   "metadata": {
    "id": "Yz8vwTv9Obu1"
   },
   "source": [
    "Placez vous dans le répertoire **FICHIERS** puis vérifiez que ce répertoire est bien votre répertoire courant"
   ]
  },
  {
   "cell_type": "code",
   "execution_count": null,
   "metadata": {
    "id": "a_mDTlbiObu1"
   },
   "outputs": [],
   "source": []
  },
  {
   "cell_type": "markdown",
   "metadata": {
    "id": "bcdxMJx2Obu2"
   },
   "source": [
    "Ecrire une fonction python **insererLigneDansFichier(nomFichier, ligneAInserer)** permettant d'ajouter une ligne dans un fichier texte; le premier paramètre représente le nom du fichier et le deuxième paramètre la ligne à insérer. Le premier appel à cette fonction provoquera la création du fichier s'il n'existe pas au préalable."
   ]
  },
  {
   "cell_type": "code",
   "execution_count": null,
   "metadata": {
    "id": "0hXJWbpbObu2"
   },
   "outputs": [],
   "source": []
  },
  {
   "cell_type": "markdown",
   "metadata": {
    "id": "3YPurworObu2"
   },
   "source": [
    "En utilisant la fonction précédante, créez 5 fichiers ayant pour noms **f1**, **f2**, **f3**, **f4** et **f5** et alimentez chacun de ces fichiers de plusieurs lignes de textes de votre choix."
   ]
  },
  {
   "cell_type": "code",
   "execution_count": null,
   "metadata": {
    "id": "W4bn7OHEObu2"
   },
   "outputs": [],
   "source": []
  },
  {
   "cell_type": "markdown",
   "metadata": {
    "id": "NA46HK22Obu3"
   },
   "source": [
    "Ecrire une fonction python **lireFichier(nomFichier)** permettant d'afficher les lignes d'un fichier texte dont le nom est transmis en paramètre; on numérotera ici chaque ligne. En utilisant le mot-clé **with** écrire ensuite une fonction **lireFichier2(nomFichier)** version optimisée de la fonction précédente."
   ]
  },
  {
   "cell_type": "code",
   "execution_count": null,
   "metadata": {
    "id": "aeQAp_enObu3"
   },
   "outputs": [],
   "source": []
  },
  {
   "cell_type": "markdown",
   "metadata": {
    "id": "eoZUHzDVObu3"
   },
   "source": [
    "En utilisant la fonction précédante, lister les contenus des 5 fichiers créés précedemment "
   ]
  },
  {
   "cell_type": "code",
   "execution_count": null,
   "metadata": {
    "id": "huTRVz56Obu4"
   },
   "outputs": [],
   "source": []
  },
  {
   "cell_type": "markdown",
   "metadata": {
    "id": "dJK2KKXvObu4"
   },
   "source": [
    "Déplacez dans le répertoire **PARTIE1** les fichiers **f1**, **f2** et **f3**, copiez le fichier **f4** en un fichier **f4bis** puis copiez les fichiers **f4bis** et **f5** dans le même répertoire.   Listez ensuite les contenus des répertoires **FICHIERS** et **PARTIE1**"
   ]
  },
  {
   "cell_type": "code",
   "execution_count": null,
   "metadata": {
    "id": "r1vilNRVObu4"
   },
   "outputs": [],
   "source": []
  },
  {
   "cell_type": "markdown",
   "metadata": {
    "id": "szm6EUDZObu4"
   },
   "source": [
    "Sans vous déplacer dans le répertoire **PARTIE1**, renommez le fichier **f4bis** du répertoire **PARTIE1** en **f4** puis affichez le contenu du répertoire **PARTIE1**"
   ]
  },
  {
   "cell_type": "code",
   "execution_count": null,
   "metadata": {
    "id": "DASHP_RbObu4"
   },
   "outputs": [],
   "source": []
  },
  {
   "cell_type": "markdown",
   "metadata": {
    "id": "1d8NLSf5Obu5"
   },
   "source": [
    "Créez dans le répertoire **PARTIE1** l’arborescence suivante où **f1**, **f2**, **f3**, **f4** et **f5** sont des fichiers figurant déjà dans **PARTIE1**; **A**, **B**, **C**, **D** et **E** sont des répertoires à créer:     \n",
    "-**A** et **B** sont deux sous-répertoires de **PARTIE1**  \n",
    "-**C** et **D** sont deux sous-répertoires de **A**  \n",
    "-**E** est un sous-répertoire de **B**  \n",
    "-**f1** devra être placé dans **B** et **f5** dans **E**  \n",
    "-**f2**, **f3** et **f4** devront être placés dans **D**"
   ]
  },
  {
   "cell_type": "code",
   "execution_count": null,
   "metadata": {
    "id": "nTH_pY4CObu5"
   },
   "outputs": [],
   "source": []
  },
  {
   "cell_type": "markdown",
   "metadata": {
    "id": "iSIeE2MnObu5"
   },
   "source": [
    "Au moyen de la fonction **walk()** listez de manière récursive le contenu du répertoire courant et de ses sous-répertoires"
   ]
  },
  {
   "cell_type": "code",
   "execution_count": null,
   "metadata": {
    "id": "-EXefBS1Obu5"
   },
   "outputs": [],
   "source": []
  },
  {
   "cell_type": "markdown",
   "metadata": {
    "id": "4I-SokJ5Obu5"
   },
   "source": [
    "Affichez la taille et la date de dernier accès/modification du fichier **f1** "
   ]
  },
  {
   "cell_type": "code",
   "execution_count": null,
   "metadata": {
    "id": "XRpC2eILObu6"
   },
   "outputs": [],
   "source": []
  },
  {
   "cell_type": "markdown",
   "metadata": {
    "id": "h5tXrk5WObu6"
   },
   "source": [
    "Ecrire une fonction **ls_l** permettant de lister le contenu d'un répertoire dont le nom est transmis en paramètre; à l'image de la commande UNIX **ls -l**,  cette fonction affichera la nature de chaque élément contenu dans le répertoire (le caractère tiret (-) ou 'd' devra être affiché en début de ligne pour indiquer s'il s'agit d'un fichier ou d'un répertoire), sa taille et sa date de dernière modification.    \n",
    "On utilisera ici les fonctions **isfile()** et/ou **isdir()** pour savoir si un élément est un fichier ou un répertoire"
   ]
  },
  {
   "cell_type": "code",
   "execution_count": null,
   "metadata": {
    "id": "PikobP4EObu6"
   },
   "outputs": [],
   "source": []
  },
  {
   "cell_type": "markdown",
   "metadata": {
    "id": "wgOgdpkWObu6"
   },
   "source": [
    "Listez le contenu du répertoire courant à l'aide de la fonction **ls_l**"
   ]
  },
  {
   "cell_type": "code",
   "execution_count": null,
   "metadata": {
    "id": "VNmii3HvObu6"
   },
   "outputs": [],
   "source": []
  },
  {
   "cell_type": "markdown",
   "metadata": {
    "id": "lBSWWhoErhxG"
   },
   "source": [
    "## Exercice 2: Manipulation de fichiers au format csv"
   ]
  },
  {
   "cell_type": "markdown",
   "metadata": {
    "id": "geMX9qXirhxH"
   },
   "source": [
    "Réalisez le montage du drive sur Colab si nécessaire et placez vous dans le répertoire R208"
   ]
  },
  {
   "cell_type": "code",
   "execution_count": null,
   "metadata": {
    "id": "38_auE0BrhxH"
   },
   "outputs": [],
   "source": []
  },
  {
   "cell_type": "markdown",
   "metadata": {
    "id": "dZDMBK-orhxH"
   },
   "source": [
    "Ouvrez en mode lecture le fichier **Notes.csv** qui se trouve dans le répertoire **data**, affichez toutes les lignes qui s'y trouvent puis fermer le. Ici on affichera chaque ligne sous-forme d'une liste. Le caractère délimiteur est ici la virgule (,)"
   ]
  },
  {
   "cell_type": "code",
   "execution_count": null,
   "metadata": {
    "id": "PtgxyS6GrhxH"
   },
   "outputs": [],
   "source": []
  },
  {
   "cell_type": "markdown",
   "metadata": {
    "id": "38nha1b5rhxH"
   },
   "source": [
    "Reprendre la question précéente mais en affichant cette fois-ci chaque ligne sous-forme d'un dictionnaire."
   ]
  },
  {
   "cell_type": "code",
   "execution_count": null,
   "metadata": {
    "id": "LoQd_NSirhxH"
   },
   "outputs": [],
   "source": []
  },
  {
   "cell_type": "markdown",
   "metadata": {
    "id": "GlPUWVRdrhxH"
   },
   "source": [
    "Ajoutez la ligne de données suivante dans le fichier **Notes.csv**: ['Jacky','1', '19.5', '19','1','12.0','32.5','A','6136']"
   ]
  },
  {
   "cell_type": "code",
   "execution_count": null,
   "metadata": {
    "id": "q-1J2WH9rhxI"
   },
   "outputs": [],
   "source": []
  },
  {
   "cell_type": "markdown",
   "metadata": {
    "id": "SH1skhNOrhxI"
   },
   "source": [
    "Utilisez maintenant la fonction **read_csv** de la librairie **pandas** pour ouvrir le fichier **Notes.csv** pour afficher son contenu sous la forme d'un **DataFrame** "
   ]
  },
  {
   "cell_type": "code",
   "execution_count": null,
   "metadata": {
    "id": "PlLlM4iqrhxI"
   },
   "outputs": [],
   "source": []
  },
  {
   "cell_type": "markdown",
   "metadata": {
    "id": "rN0mGECWrhxI"
   },
   "source": [
    "Affichez les dimensions du dataframe"
   ]
  },
  {
   "cell_type": "code",
   "execution_count": null,
   "metadata": {
    "id": "vuEvCoW7rhxI"
   },
   "outputs": [],
   "source": []
  },
  {
   "cell_type": "markdown",
   "metadata": {
    "id": "F7S0CFYJrhxI"
   },
   "source": [
    "Affichez les 4 premières du dataframe"
   ]
  },
  {
   "cell_type": "code",
   "execution_count": null,
   "metadata": {
    "id": "5BzH2WHHrhxI"
   },
   "outputs": [],
   "source": []
  },
  {
   "cell_type": "markdown",
   "metadata": {
    "id": "itY6Wm-CrhxJ"
   },
   "source": [
    "Affichez les 2 dernières ligne du dataframe"
   ]
  },
  {
   "cell_type": "code",
   "execution_count": null,
   "metadata": {
    "id": "7rBS-XbcrhxJ"
   },
   "outputs": [],
   "source": []
  },
  {
   "cell_type": "markdown",
   "metadata": {
    "id": "-0qvpHaNrhxJ"
   },
   "source": [
    "Affichez:  \n",
    "-toutes les informations concernant **joe**  \n",
    "-la note de l'examen final de **Susan**  \n",
    "-toutes les notes de **Joe**"
   ]
  },
  {
   "cell_type": "code",
   "execution_count": null,
   "metadata": {
    "id": "cymFUevmrhxJ"
   },
   "outputs": [],
   "source": [
    "\n"
   ]
  },
  {
   "cell_type": "markdown",
   "metadata": {
    "id": "WD7G2a_frhxJ"
   },
   "source": [
    "Affichez la note finale la plus basse et la note finale moyenne de la promotion"
   ]
  },
  {
   "cell_type": "code",
   "execution_count": null,
   "metadata": {
    "id": "bRoERvfYrhxJ"
   },
   "outputs": [],
   "source": []
  },
  {
   "cell_type": "markdown",
   "metadata": {
    "id": "f1Lagdk0rhxJ"
   },
   "source": [
    "Affichez le comptage des étudiants par mention"
   ]
  },
  {
   "cell_type": "code",
   "execution_count": null,
   "metadata": {
    "id": "6f9XQErgrhxK"
   },
   "outputs": [],
   "source": []
  },
  {
   "cell_type": "markdown",
   "metadata": {
    "id": "KKqto2IvrhxK"
   },
   "source": [
    "Triez puis affichez le tableau par notes de l'examen finale croissantes"
   ]
  },
  {
   "cell_type": "code",
   "execution_count": null,
   "metadata": {
    "id": "ZR0552DXrhxK"
   },
   "outputs": [],
   "source": []
  },
  {
   "cell_type": "markdown",
   "metadata": {
    "id": "4SYAe4xxrhxK"
   },
   "source": [
    "On souhaite maintenant créer dans le répertoire **data** le fichier csv **Notes_Synthèse** dans lequel figureront les colonnes suivantes: **Nom**, **ID**, **Exam_Final**, **%ExamenFinal** et **Mention**. La colonne **%ExamenFinal** représente le pourcentage de la note de l'examen final de chaque étudiant sachant que cet examen est noté sur 36."
   ]
  },
  {
   "cell_type": "code",
   "execution_count": null,
   "metadata": {
    "id": "cPXeba2mrhxK"
   },
   "outputs": [],
   "source": []
  },
  {
   "cell_type": "markdown",
   "metadata": {
    "id": "fCaGsT9OrhxK"
   },
   "source": [
    "Vérifiez le contenu du fichier **Notes_Synthèse**"
   ]
  },
  {
   "cell_type": "code",
   "execution_count": null,
   "metadata": {
    "id": "ElfUuIqjrhxK"
   },
   "outputs": [],
   "source": []
  },
  {
   "cell_type": "markdown",
   "metadata": {
    "id": "dACQb0YMrhxL"
   },
   "source": [
    "## Exercice 3: Manipulation de fichiers au format json"
   ]
  },
  {
   "cell_type": "markdown",
   "metadata": {
    "id": "qp5RYWKvrhxL"
   },
   "source": [
    "Convertissez *(sérialisez)* le dictionnaire suivant au format JSON : **data = {\"key1\" : \"val1\", \"key2\" : \"val2\"}**"
   ]
  },
  {
   "cell_type": "code",
   "execution_count": null,
   "metadata": {
    "id": "63k_rZfKrhxL"
   },
   "outputs": [],
   "source": []
  },
  {
   "cell_type": "markdown",
   "metadata": {
    "id": "djMkPOYGrhxL"
   },
   "source": [
    "Affichez la valeur correspondant à la clé **key2** en parsant la chaine JSON suivante: **sampleJson = \"\"\"{\"key1\": \"value1\", \"key2\": \"value2\"}\"\"\"**"
   ]
  },
  {
   "cell_type": "code",
   "execution_count": null,
   "metadata": {
    "id": "43yarPsQrhxL"
   },
   "outputs": [],
   "source": []
  },
  {
   "cell_type": "markdown",
   "metadata": {
    "id": "c4n7QgNerhxL"
   },
   "source": [
    "Affichez en format jolie impression (PrettyPrint) les données JSON suivantes avec le niveau d'indentation 2 et les séparateurs clé-valeur suivants: \",\" et \":\")    \n",
    "**sampleJson = {\"key1\" : \"val2\", \"key2\" : \"val2\", \"key3\" : \"val3\"}**"
   ]
  },
  {
   "cell_type": "code",
   "execution_count": null,
   "metadata": {
    "id": "48bewmSJrhxL"
   },
   "outputs": [],
   "source": []
  },
  {
   "cell_type": "markdown",
   "metadata": {
    "id": "pETW5apArhxL"
   },
   "source": [
    "Affichez la valeur correspondant à la clé imbriquée **salaireDeBase** en parsant la chaine JSON ci-dessous:"
   ]
  },
  {
   "cell_type": "code",
   "execution_count": 1,
   "metadata": {
    "id": "sPHQZVP8rhxM"
   },
   "outputs": [],
   "source": [
    "sampleJson = \"\"\"{ \n",
    "   \"entreprise\":{ \n",
    "      \"employee\":{ \n",
    "         \"nom\":\"Aline\",\n",
    "         \"salaire\":{ \n",
    "            \"salaireDeBase\":7000,\n",
    "            \"bonus\":800\n",
    "         }\n",
    "      }\n",
    "   }\n",
    "}\"\"\"\n",
    "#A compléter"
   ]
  },
  {
   "cell_type": "markdown",
   "metadata": {
    "id": "nU062lkMrhxM"
   },
   "source": [
    "Parsez (désérializez) la chaine JSON suivante pour obtenir toutes les valeurs de la clé **nom** dans une liste"
   ]
  },
  {
   "cell_type": "code",
   "execution_count": 2,
   "metadata": {
    "id": "DsP2x-TsrhxM"
   },
   "outputs": [],
   "source": [
    "sampleJson = \"\"\"[ \n",
    "   { \n",
    "      \"id\":1,\n",
    "      \"nom\":\"nom1\",\n",
    "      \"couleur\":[ \n",
    "         \"rouge\",\n",
    "         \"vert\"\n",
    "      ]\n",
    "   },\n",
    "   { \n",
    "      \"id\":2,\n",
    "      \"nom\":\"nom2\",\n",
    "      \"couleur\":[ \n",
    "         \"rose\",\n",
    "         \"jaune\"\n",
    "      ]\n",
    "   }\n",
    "]\"\"\"\n",
    "#A compléter"
   ]
  },
  {
   "cell_type": "markdown",
   "metadata": {
    "id": "U9nILgeqrhxP"
   },
   "source": [
    "Ecrire les donnnés JSON suivantes dans le fichier **sampleJson** que l'on mettra dans le répertoire **data** en triant les données  par ordre alphabétique des clés:  \n",
    "**sampleJson = {\"id\" : 1, \"name\" : \"value2\", \"age\" : 29}** "
   ]
  },
  {
   "cell_type": "code",
   "execution_count": 2,
   "metadata": {
    "id": "-VFaYyUNrhxP"
   },
   "outputs": [],
   "source": []
  },
  {
   "cell_type": "markdown",
   "metadata": {
    "id": "5E_BjP8wrhxQ"
   },
   "source": [
    "Ecrire les donnnés JSON suivantes dans le fichier **sampleJson2** que que l'on placera dans le répertoire **data**  \n",
    "**sampleJson1 = {\"id\" : 1, \"name\" : \"value2\", \"age\" : 29}**    \n",
    "**sampleJson2 = {\"id\" : 2, \"name\" : \"value4\", \"age\" : 18}**    \n",
    "**sampleJson3 = {\"id\" : 3, \"name\" : \"value3\", \"age\" : 45}**"
   ]
  },
  {
   "cell_type": "code",
   "execution_count": null,
   "metadata": {
    "id": "ehaTkHB0rhxQ"
   },
   "outputs": [],
   "source": []
  },
  {
   "cell_type": "markdown",
   "metadata": {
    "id": "_p5KtHaLrhxR"
   },
   "source": [
    "**Lecture des données à partir du fichier sampleJson (désérialisation)**"
   ]
  },
  {
   "cell_type": "code",
   "execution_count": null,
   "metadata": {
    "colab": {
     "base_uri": "https://localhost:8080/"
    },
    "id": "NYzwg02hrhxR",
    "outputId": "063ad6bc-1f95-46e7-8fa2-dc46a40dc006"
   },
   "outputs": [
    {
     "name": "stdout",
     "output_type": "stream",
     "text": [
      "{'age': 29, 'id': 1, 'name': 'value2'}\n"
     ]
    }
   ],
   "source": []
  },
  {
   "cell_type": "markdown",
   "metadata": {
    "id": "RnBEMV2UrhxS"
   },
   "source": [
    "**Lecture des données à partir du fichier sampleJson2 (désérialisation)**"
   ]
  },
  {
   "cell_type": "code",
   "execution_count": 2,
   "metadata": {
    "id": "pAf6vQ76rhxS"
   },
   "outputs": [],
   "source": []
  },
  {
   "cell_type": "markdown",
   "metadata": {
    "id": "TFVptuiXrhxS"
   },
   "source": [
    "## Exercice 3: Manipulation de fichiers au format xml"
   ]
  },
  {
   "cell_type": "markdown",
   "metadata": {
    "id": "okpR3Ws9rhxT"
   },
   "source": [
    "Soit la classe **Voiture** ci-dessous; écrire un programme Python instanciant 3 objets de cette classe puis stockant ces derniers dans un fichier **Voitures.xml** que l'on placera dans le répertoire **data** sous forme de sous-éléments **Voiture** du noeud racine **CollectionVoitures** du document xml. "
   ]
  },
  {
   "cell_type": "code",
   "execution_count": 3,
   "metadata": {
    "id": "2C9s4aW5rhxT"
   },
   "outputs": [],
   "source": [
    "class Voiture:\n",
    "    def __init__(self,nom, moteur, prix):\n",
    "        self.nom=nom\n",
    "        self.moteur=moteur\n",
    "        self.prix=prix\n",
    "\n",
    "#A compléter"
   ]
  },
  {
   "cell_type": "markdown",
   "metadata": {
    "id": "QZrpeN0KrhxU"
   },
   "source": [
    "On souhaite maintenant écrire un programme Python permettant de parser le fichier **Voitures.xml** créé précedemment pour extraire les valeurs des attributs de tous les élements. On utilisera ici une approche itérative en partant du principe que l'on ne connait pas a priori le nombre d'élements et de sous-éléments dans le fichier."
   ]
  },
  {
   "cell_type": "code",
   "execution_count": null,
   "metadata": {
    "id": "7GlB1-OzrhxU"
   },
   "outputs": [],
   "source": []
  }
 ],
 "metadata": {
  "colab": {
   "name": "R208 TD_TP 2 Manipulation de fichiers _Complet.ipynb",
   "provenance": []
  },
  "kernelspec": {
   "display_name": "Python 3",
   "language": "python",
   "name": "python3"
  },
  "language_info": {
   "codemirror_mode": {
    "name": "ipython",
    "version": 3
   },
   "file_extension": ".py",
   "mimetype": "text/x-python",
   "name": "python",
   "nbconvert_exporter": "python",
   "pygments_lexer": "ipython3",
   "version": "3.8.3"
  }
 },
 "nbformat": 4,
 "nbformat_minor": 1
}
